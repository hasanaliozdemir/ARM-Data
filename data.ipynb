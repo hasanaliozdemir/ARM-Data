{
 "cells": [
  {
   "cell_type": "code",
   "execution_count": 282,
   "id": "246696c9",
   "metadata": {},
   "outputs": [],
   "source": [
    "import pandas as pd\n",
    "import numpy as np\n",
    "\n",
    "from functools import reduce"
   ]
  },
  {
   "cell_type": "code",
   "execution_count": 283,
   "id": "bb02208b",
   "metadata": {},
   "outputs": [],
   "source": [
    "antibiotic_use_aware = pd.read_csv('simple_data/antibiotic_use_aware-2016-2023.csv')"
   ]
  },
  {
   "cell_type": "code",
   "execution_count": 284,
   "id": "699c7ae8",
   "metadata": {},
   "outputs": [
    {
     "data": {
      "application/vnd.microsoft.datawrangler.viewer.v0+json": {
       "columns": [
        {
         "name": "index",
         "rawType": "int64",
         "type": "integer"
        },
        {
         "name": "WHORegionCode",
         "rawType": "object",
         "type": "string"
        },
        {
         "name": "WHORegionName",
         "rawType": "object",
         "type": "string"
        },
        {
         "name": "CountryIso3",
         "rawType": "object",
         "type": "string"
        },
        {
         "name": "CountryTerritoryArea",
         "rawType": "object",
         "type": "string"
        },
        {
         "name": "IncomeWorldBankJune",
         "rawType": "object",
         "type": "string"
        },
        {
         "name": "Year",
         "rawType": "int64",
         "type": "integer"
        },
        {
         "name": "AntimicrobialClass",
         "rawType": "object",
         "type": "string"
        },
        {
         "name": "AWaRe",
         "rawType": "object",
         "type": "string"
        },
        {
         "name": "AWaReLabel",
         "rawType": "object",
         "type": "string"
        },
        {
         "name": "RouteOfAdministration",
         "rawType": "object",
         "type": "string"
        },
        {
         "name": "DDD",
         "rawType": "float64",
         "type": "float"
        },
        {
         "name": "DID",
         "rawType": "float64",
         "type": "float"
        },
        {
         "name": "Note",
         "rawType": "object",
         "type": "unknown"
        }
       ],
       "ref": "2d545a75-a5c4-41f8-861d-837ecc363a04",
       "rows": [
        [
         "0",
         "EUR",
         "European Region",
         "ARM",
         "Armenia",
         "Lower middle income",
         "2016",
         "Antibacterials (ATC J01, A07AA, P01AB)",
         "A",
         "Ãƒccess",
         "O",
         "5599337.01627",
         "5.255819566",
         null
        ],
        [
         "1",
         "EUR",
         "European Region",
         "ARM",
         "Armenia",
         "Lower middle income",
         "2016",
         "Antibacterials (ATC J01, A07AA, P01AB)",
         "O",
         "Not classified/recommended",
         "O",
         "65246.5",
         "0.06124365",
         null
        ],
        [
         "2",
         "EUR",
         "European Region",
         "ARM",
         "Armenia",
         "Lower middle income",
         "2016",
         "Antibacterials (ATC J01, A07AA, P01AB)",
         "R",
         "Reserve",
         "O",
         "8997.5",
         "0.008445506",
         null
        ],
        [
         "3",
         "EUR",
         "European Region",
         "ARM",
         "Armenia",
         "Lower middle income",
         "2016",
         "Antibacterials (ATC J01, A07AA, P01AB)",
         "W",
         "Watch",
         "O",
         "3020861.65003",
         "2.835532802",
         null
        ],
        [
         "4",
         "EUR",
         "European Region",
         "ARM",
         "Armenia",
         "Lower middle income",
         "2016",
         "Antibacterials (ATC J01, A07AA, P01AB)",
         "A",
         "Ãƒccess",
         "P",
         "359117.83338",
         "0.337086075",
         null
        ]
       ],
       "shape": {
        "columns": 13,
        "rows": 5
       }
      },
      "text/html": [
       "<div>\n",
       "<style scoped>\n",
       "    .dataframe tbody tr th:only-of-type {\n",
       "        vertical-align: middle;\n",
       "    }\n",
       "\n",
       "    .dataframe tbody tr th {\n",
       "        vertical-align: top;\n",
       "    }\n",
       "\n",
       "    .dataframe thead th {\n",
       "        text-align: right;\n",
       "    }\n",
       "</style>\n",
       "<table border=\"1\" class=\"dataframe\">\n",
       "  <thead>\n",
       "    <tr style=\"text-align: right;\">\n",
       "      <th></th>\n",
       "      <th>WHORegionCode</th>\n",
       "      <th>WHORegionName</th>\n",
       "      <th>CountryIso3</th>\n",
       "      <th>CountryTerritoryArea</th>\n",
       "      <th>IncomeWorldBankJune</th>\n",
       "      <th>Year</th>\n",
       "      <th>AntimicrobialClass</th>\n",
       "      <th>AWaRe</th>\n",
       "      <th>AWaReLabel</th>\n",
       "      <th>RouteOfAdministration</th>\n",
       "      <th>DDD</th>\n",
       "      <th>DID</th>\n",
       "      <th>Note</th>\n",
       "    </tr>\n",
       "  </thead>\n",
       "  <tbody>\n",
       "    <tr>\n",
       "      <th>0</th>\n",
       "      <td>EUR</td>\n",
       "      <td>European Region</td>\n",
       "      <td>ARM</td>\n",
       "      <td>Armenia</td>\n",
       "      <td>Lower middle income</td>\n",
       "      <td>2016</td>\n",
       "      <td>Antibacterials (ATC J01, A07AA, P01AB)</td>\n",
       "      <td>A</td>\n",
       "      <td>Ãƒccess</td>\n",
       "      <td>O</td>\n",
       "      <td>5.599337e+06</td>\n",
       "      <td>5.255820</td>\n",
       "      <td>NaN</td>\n",
       "    </tr>\n",
       "    <tr>\n",
       "      <th>1</th>\n",
       "      <td>EUR</td>\n",
       "      <td>European Region</td>\n",
       "      <td>ARM</td>\n",
       "      <td>Armenia</td>\n",
       "      <td>Lower middle income</td>\n",
       "      <td>2016</td>\n",
       "      <td>Antibacterials (ATC J01, A07AA, P01AB)</td>\n",
       "      <td>O</td>\n",
       "      <td>Not classified/recommended</td>\n",
       "      <td>O</td>\n",
       "      <td>6.524650e+04</td>\n",
       "      <td>0.061244</td>\n",
       "      <td>NaN</td>\n",
       "    </tr>\n",
       "    <tr>\n",
       "      <th>2</th>\n",
       "      <td>EUR</td>\n",
       "      <td>European Region</td>\n",
       "      <td>ARM</td>\n",
       "      <td>Armenia</td>\n",
       "      <td>Lower middle income</td>\n",
       "      <td>2016</td>\n",
       "      <td>Antibacterials (ATC J01, A07AA, P01AB)</td>\n",
       "      <td>R</td>\n",
       "      <td>Reserve</td>\n",
       "      <td>O</td>\n",
       "      <td>8.997500e+03</td>\n",
       "      <td>0.008446</td>\n",
       "      <td>NaN</td>\n",
       "    </tr>\n",
       "    <tr>\n",
       "      <th>3</th>\n",
       "      <td>EUR</td>\n",
       "      <td>European Region</td>\n",
       "      <td>ARM</td>\n",
       "      <td>Armenia</td>\n",
       "      <td>Lower middle income</td>\n",
       "      <td>2016</td>\n",
       "      <td>Antibacterials (ATC J01, A07AA, P01AB)</td>\n",
       "      <td>W</td>\n",
       "      <td>Watch</td>\n",
       "      <td>O</td>\n",
       "      <td>3.020862e+06</td>\n",
       "      <td>2.835533</td>\n",
       "      <td>NaN</td>\n",
       "    </tr>\n",
       "    <tr>\n",
       "      <th>4</th>\n",
       "      <td>EUR</td>\n",
       "      <td>European Region</td>\n",
       "      <td>ARM</td>\n",
       "      <td>Armenia</td>\n",
       "      <td>Lower middle income</td>\n",
       "      <td>2016</td>\n",
       "      <td>Antibacterials (ATC J01, A07AA, P01AB)</td>\n",
       "      <td>A</td>\n",
       "      <td>Ãƒccess</td>\n",
       "      <td>P</td>\n",
       "      <td>3.591178e+05</td>\n",
       "      <td>0.337086</td>\n",
       "      <td>NaN</td>\n",
       "    </tr>\n",
       "  </tbody>\n",
       "</table>\n",
       "</div>"
      ],
      "text/plain": [
       "  WHORegionCode    WHORegionName CountryIso3 CountryTerritoryArea  \\\n",
       "0           EUR  European Region         ARM              Armenia   \n",
       "1           EUR  European Region         ARM              Armenia   \n",
       "2           EUR  European Region         ARM              Armenia   \n",
       "3           EUR  European Region         ARM              Armenia   \n",
       "4           EUR  European Region         ARM              Armenia   \n",
       "\n",
       "   IncomeWorldBankJune  Year                      AntimicrobialClass AWaRe  \\\n",
       "0  Lower middle income  2016  Antibacterials (ATC J01, A07AA, P01AB)     A   \n",
       "1  Lower middle income  2016  Antibacterials (ATC J01, A07AA, P01AB)     O   \n",
       "2  Lower middle income  2016  Antibacterials (ATC J01, A07AA, P01AB)     R   \n",
       "3  Lower middle income  2016  Antibacterials (ATC J01, A07AA, P01AB)     W   \n",
       "4  Lower middle income  2016  Antibacterials (ATC J01, A07AA, P01AB)     A   \n",
       "\n",
       "                   AWaReLabel RouteOfAdministration           DDD       DID  \\\n",
       "0                     Ãƒccess                     O  5.599337e+06  5.255820   \n",
       "1  Not classified/recommended                     O  6.524650e+04  0.061244   \n",
       "2                     Reserve                     O  8.997500e+03  0.008446   \n",
       "3                       Watch                     O  3.020862e+06  2.835533   \n",
       "4                     Ãƒccess                     P  3.591178e+05  0.337086   \n",
       "\n",
       "  Note  \n",
       "0  NaN  \n",
       "1  NaN  \n",
       "2  NaN  \n",
       "3  NaN  \n",
       "4  NaN  "
      ]
     },
     "execution_count": 284,
     "metadata": {},
     "output_type": "execute_result"
    }
   ],
   "source": [
    "antibiotic_use_aware.head()"
   ]
  },
  {
   "cell_type": "code",
   "execution_count": 285,
   "id": "b2b06b58",
   "metadata": {},
   "outputs": [],
   "source": [
    "# 2016-2022 arası, Ülke bazlı, günlük doz oranı (DDD per 1000 inhabitants per day)\n",
    "antibiotic_consumption = pd.read_csv('simple_data/antibiotic-consumption-rate.csv')"
   ]
  },
  {
   "cell_type": "code",
   "execution_count": 286,
   "id": "c34fa4c6",
   "metadata": {},
   "outputs": [
    {
     "data": {
      "application/vnd.microsoft.datawrangler.viewer.v0+json": {
       "columns": [
        {
         "name": "index",
         "rawType": "int64",
         "type": "integer"
        },
        {
         "name": "Entity",
         "rawType": "object",
         "type": "string"
        },
        {
         "name": "Code",
         "rawType": "object",
         "type": "string"
        },
        {
         "name": "Year",
         "rawType": "int64",
         "type": "integer"
        },
        {
         "name": "am_consumption_rate",
         "rawType": "float64",
         "type": "float"
        }
       ],
       "ref": "29be416a-6aa7-4e37-8e48-42ecb569fbd6",
       "rows": [
        [
         "0",
         "Armenia",
         "ARM",
         "2016",
         "10.017727"
        ],
        [
         "1",
         "Armenia",
         "ARM",
         "2017",
         "12.9899645"
        ],
        [
         "2",
         "Armenia",
         "ARM",
         "2018",
         "13.337215"
        ],
        [
         "3",
         "Armenia",
         "ARM",
         "2019",
         "12.602548"
        ],
        [
         "4",
         "Armenia",
         "ARM",
         "2020",
         "19.28271"
        ]
       ],
       "shape": {
        "columns": 4,
        "rows": 5
       }
      },
      "text/html": [
       "<div>\n",
       "<style scoped>\n",
       "    .dataframe tbody tr th:only-of-type {\n",
       "        vertical-align: middle;\n",
       "    }\n",
       "\n",
       "    .dataframe tbody tr th {\n",
       "        vertical-align: top;\n",
       "    }\n",
       "\n",
       "    .dataframe thead th {\n",
       "        text-align: right;\n",
       "    }\n",
       "</style>\n",
       "<table border=\"1\" class=\"dataframe\">\n",
       "  <thead>\n",
       "    <tr style=\"text-align: right;\">\n",
       "      <th></th>\n",
       "      <th>Entity</th>\n",
       "      <th>Code</th>\n",
       "      <th>Year</th>\n",
       "      <th>am_consumption_rate</th>\n",
       "    </tr>\n",
       "  </thead>\n",
       "  <tbody>\n",
       "    <tr>\n",
       "      <th>0</th>\n",
       "      <td>Armenia</td>\n",
       "      <td>ARM</td>\n",
       "      <td>2016</td>\n",
       "      <td>10.017727</td>\n",
       "    </tr>\n",
       "    <tr>\n",
       "      <th>1</th>\n",
       "      <td>Armenia</td>\n",
       "      <td>ARM</td>\n",
       "      <td>2017</td>\n",
       "      <td>12.989964</td>\n",
       "    </tr>\n",
       "    <tr>\n",
       "      <th>2</th>\n",
       "      <td>Armenia</td>\n",
       "      <td>ARM</td>\n",
       "      <td>2018</td>\n",
       "      <td>13.337215</td>\n",
       "    </tr>\n",
       "    <tr>\n",
       "      <th>3</th>\n",
       "      <td>Armenia</td>\n",
       "      <td>ARM</td>\n",
       "      <td>2019</td>\n",
       "      <td>12.602548</td>\n",
       "    </tr>\n",
       "    <tr>\n",
       "      <th>4</th>\n",
       "      <td>Armenia</td>\n",
       "      <td>ARM</td>\n",
       "      <td>2020</td>\n",
       "      <td>19.282710</td>\n",
       "    </tr>\n",
       "  </tbody>\n",
       "</table>\n",
       "</div>"
      ],
      "text/plain": [
       "    Entity Code  Year  am_consumption_rate\n",
       "0  Armenia  ARM  2016            10.017727\n",
       "1  Armenia  ARM  2017            12.989964\n",
       "2  Armenia  ARM  2018            13.337215\n",
       "3  Armenia  ARM  2019            12.602548\n",
       "4  Armenia  ARM  2020            19.282710"
      ]
     },
     "execution_count": 286,
     "metadata": {},
     "output_type": "execute_result"
    }
   ],
   "source": [
    "antibiotic_consumption.head()\n"
   ]
  },
  {
   "cell_type": "code",
   "execution_count": 287,
   "id": "edf38eb6",
   "metadata": {},
   "outputs": [],
   "source": [
    "# 2000-20188 arası, 0-14 yaş grubu, ülke bazlı, % olarak antibiyotik kullanımı\n",
    "antibotic_usage_in_children = pd.read_csv('simple_data/antibiotic-usage-in-children.csv')"
   ]
  },
  {
   "cell_type": "code",
   "execution_count": 288,
   "id": "0be46fcc",
   "metadata": {},
   "outputs": [
    {
     "data": {
      "application/vnd.microsoft.datawrangler.viewer.v0+json": {
       "columns": [
        {
         "name": "index",
         "rawType": "int64",
         "type": "integer"
        },
        {
         "name": "country",
         "rawType": "object",
         "type": "string"
        },
        {
         "name": "Year",
         "rawType": "int64",
         "type": "integer"
        },
        {
         "name": "am_usage_children",
         "rawType": "float64",
         "type": "float"
        }
       ],
       "ref": "854e025e-a765-484d-9fbc-10c675b77951",
       "rows": [
        [
         "0",
         "Afghanistan",
         "2000",
         "63.8"
        ],
        [
         "1",
         "Albania",
         "2000",
         "64.1"
        ],
        [
         "2",
         "Algeria",
         "2000",
         "56.7"
        ],
        [
         "3",
         "American Samoa",
         "2000",
         "50.9"
        ],
        [
         "4",
         "Angola",
         "2000",
         "32.9"
        ]
       ],
       "shape": {
        "columns": 3,
        "rows": 5
       }
      },
      "text/html": [
       "<div>\n",
       "<style scoped>\n",
       "    .dataframe tbody tr th:only-of-type {\n",
       "        vertical-align: middle;\n",
       "    }\n",
       "\n",
       "    .dataframe tbody tr th {\n",
       "        vertical-align: top;\n",
       "    }\n",
       "\n",
       "    .dataframe thead th {\n",
       "        text-align: right;\n",
       "    }\n",
       "</style>\n",
       "<table border=\"1\" class=\"dataframe\">\n",
       "  <thead>\n",
       "    <tr style=\"text-align: right;\">\n",
       "      <th></th>\n",
       "      <th>country</th>\n",
       "      <th>Year</th>\n",
       "      <th>am_usage_children</th>\n",
       "    </tr>\n",
       "  </thead>\n",
       "  <tbody>\n",
       "    <tr>\n",
       "      <th>0</th>\n",
       "      <td>Afghanistan</td>\n",
       "      <td>2000</td>\n",
       "      <td>63.8</td>\n",
       "    </tr>\n",
       "    <tr>\n",
       "      <th>1</th>\n",
       "      <td>Albania</td>\n",
       "      <td>2000</td>\n",
       "      <td>64.1</td>\n",
       "    </tr>\n",
       "    <tr>\n",
       "      <th>2</th>\n",
       "      <td>Algeria</td>\n",
       "      <td>2000</td>\n",
       "      <td>56.7</td>\n",
       "    </tr>\n",
       "    <tr>\n",
       "      <th>3</th>\n",
       "      <td>American Samoa</td>\n",
       "      <td>2000</td>\n",
       "      <td>50.9</td>\n",
       "    </tr>\n",
       "    <tr>\n",
       "      <th>4</th>\n",
       "      <td>Angola</td>\n",
       "      <td>2000</td>\n",
       "      <td>32.9</td>\n",
       "    </tr>\n",
       "  </tbody>\n",
       "</table>\n",
       "</div>"
      ],
      "text/plain": [
       "          country  Year  am_usage_children\n",
       "0     Afghanistan  2000               63.8\n",
       "1         Albania  2000               64.1\n",
       "2         Algeria  2000               56.7\n",
       "3  American Samoa  2000               50.9\n",
       "4          Angola  2000               32.9"
      ]
     },
     "execution_count": 288,
     "metadata": {},
     "output_type": "execute_result"
    }
   ],
   "source": [
    "antibotic_usage_in_children.head()"
   ]
  },
  {
   "cell_type": "code",
   "execution_count": 289,
   "id": "17722330",
   "metadata": {},
   "outputs": [],
   "source": [
    "# 2024 yılında ülkelerin GLASS üyelik durumları (Both, AMR Only, Neither)\n",
    "glass_countries = pd.read_csv('simple_data/glass_countries.csv')"
   ]
  },
  {
   "cell_type": "code",
   "execution_count": 290,
   "id": "7775a4d9",
   "metadata": {},
   "outputs": [
    {
     "data": {
      "application/vnd.microsoft.datawrangler.viewer.v0+json": {
       "columns": [
        {
         "name": "index",
         "rawType": "int64",
         "type": "integer"
        },
        {
         "name": "Entity",
         "rawType": "object",
         "type": "string"
        },
        {
         "name": "Code",
         "rawType": "object",
         "type": "string"
        },
        {
         "name": "Year",
         "rawType": "int64",
         "type": "integer"
        },
        {
         "name": "is_glass_country",
         "rawType": "object",
         "type": "string"
        }
       ],
       "ref": "f0e85506-8bec-455f-b688-eae51723c421",
       "rows": [
        [
         "0",
         "Afghanistan",
         "AFG",
         "2024",
         "Both"
        ],
        [
         "1",
         "Albania",
         "ALB",
         "2024",
         "Neither"
        ],
        [
         "2",
         "Algeria",
         "DZA",
         "2024",
         "AMR only"
        ],
        [
         "3",
         "Andorra",
         "AND",
         "2024",
         "Neither"
        ],
        [
         "4",
         "Angola",
         "AGO",
         "2024",
         "AMR only"
        ]
       ],
       "shape": {
        "columns": 4,
        "rows": 5
       }
      },
      "text/html": [
       "<div>\n",
       "<style scoped>\n",
       "    .dataframe tbody tr th:only-of-type {\n",
       "        vertical-align: middle;\n",
       "    }\n",
       "\n",
       "    .dataframe tbody tr th {\n",
       "        vertical-align: top;\n",
       "    }\n",
       "\n",
       "    .dataframe thead th {\n",
       "        text-align: right;\n",
       "    }\n",
       "</style>\n",
       "<table border=\"1\" class=\"dataframe\">\n",
       "  <thead>\n",
       "    <tr style=\"text-align: right;\">\n",
       "      <th></th>\n",
       "      <th>Entity</th>\n",
       "      <th>Code</th>\n",
       "      <th>Year</th>\n",
       "      <th>is_glass_country</th>\n",
       "    </tr>\n",
       "  </thead>\n",
       "  <tbody>\n",
       "    <tr>\n",
       "      <th>0</th>\n",
       "      <td>Afghanistan</td>\n",
       "      <td>AFG</td>\n",
       "      <td>2024</td>\n",
       "      <td>Both</td>\n",
       "    </tr>\n",
       "    <tr>\n",
       "      <th>1</th>\n",
       "      <td>Albania</td>\n",
       "      <td>ALB</td>\n",
       "      <td>2024</td>\n",
       "      <td>Neither</td>\n",
       "    </tr>\n",
       "    <tr>\n",
       "      <th>2</th>\n",
       "      <td>Algeria</td>\n",
       "      <td>DZA</td>\n",
       "      <td>2024</td>\n",
       "      <td>AMR only</td>\n",
       "    </tr>\n",
       "    <tr>\n",
       "      <th>3</th>\n",
       "      <td>Andorra</td>\n",
       "      <td>AND</td>\n",
       "      <td>2024</td>\n",
       "      <td>Neither</td>\n",
       "    </tr>\n",
       "    <tr>\n",
       "      <th>4</th>\n",
       "      <td>Angola</td>\n",
       "      <td>AGO</td>\n",
       "      <td>2024</td>\n",
       "      <td>AMR only</td>\n",
       "    </tr>\n",
       "  </tbody>\n",
       "</table>\n",
       "</div>"
      ],
      "text/plain": [
       "        Entity Code  Year is_glass_country\n",
       "0  Afghanistan  AFG  2024             Both\n",
       "1      Albania  ALB  2024          Neither\n",
       "2      Algeria  DZA  2024         AMR only\n",
       "3      Andorra  AND  2024          Neither\n",
       "4       Angola  AGO  2024         AMR only"
      ]
     },
     "execution_count": 290,
     "metadata": {},
     "output_type": "execute_result"
    }
   ],
   "source": [
    "glass_countries.head()"
   ]
  },
  {
   "cell_type": "code",
   "execution_count": 291,
   "id": "8501b752",
   "metadata": {},
   "outputs": [],
   "source": [
    "# 2021 Yılında semptomların toplam ölüm sayısı ve kaç tanesisin AMR kaynaklı olduğu\n",
    "global_deaths = pd.read_csv('simple_data/global_deaths.csv')"
   ]
  },
  {
   "cell_type": "code",
   "execution_count": 292,
   "id": "d8712538",
   "metadata": {},
   "outputs": [
    {
     "data": {
      "application/vnd.microsoft.datawrangler.viewer.v0+json": {
       "columns": [
        {
         "name": "index",
         "rawType": "int64",
         "type": "integer"
        },
        {
         "name": "Entity",
         "rawType": "object",
         "type": "string"
        },
        {
         "name": "Code",
         "rawType": "float64",
         "type": "float"
        },
        {
         "name": "Year",
         "rawType": "int64",
         "type": "integer"
        },
        {
         "name": "death_not_ARM",
         "rawType": "float64",
         "type": "float"
        },
        {
         "name": "death_ARM",
         "rawType": "float64",
         "type": "float"
        }
       ],
       "ref": "78b2b13d-fc3c-4d89-b522-1781da011b00",
       "rows": [
        [
         "0",
         "Abdominal infections",
         null,
         "2021",
         "567226.4",
         "79132.57"
        ],
        [
         "1",
         "Bloodstream infections",
         null,
         "2021",
         "2948664.2",
         "456058.72"
        ],
        [
         "2",
         "Bone and joint infections",
         null,
         "2021",
         "21338.693",
         "3165.9866"
        ],
        [
         "3",
         "Diarrhea",
         null,
         "2021",
         "1167751.2",
         "26972.719"
        ],
        [
         "4",
         "Endocarditis",
         null,
         "2021",
         "89064.664",
         "15466.659"
        ]
       ],
       "shape": {
        "columns": 5,
        "rows": 5
       }
      },
      "text/html": [
       "<div>\n",
       "<style scoped>\n",
       "    .dataframe tbody tr th:only-of-type {\n",
       "        vertical-align: middle;\n",
       "    }\n",
       "\n",
       "    .dataframe tbody tr th {\n",
       "        vertical-align: top;\n",
       "    }\n",
       "\n",
       "    .dataframe thead th {\n",
       "        text-align: right;\n",
       "    }\n",
       "</style>\n",
       "<table border=\"1\" class=\"dataframe\">\n",
       "  <thead>\n",
       "    <tr style=\"text-align: right;\">\n",
       "      <th></th>\n",
       "      <th>Entity</th>\n",
       "      <th>Code</th>\n",
       "      <th>Year</th>\n",
       "      <th>death_not_ARM</th>\n",
       "      <th>death_ARM</th>\n",
       "    </tr>\n",
       "  </thead>\n",
       "  <tbody>\n",
       "    <tr>\n",
       "      <th>0</th>\n",
       "      <td>Abdominal infections</td>\n",
       "      <td>NaN</td>\n",
       "      <td>2021</td>\n",
       "      <td>567226.400</td>\n",
       "      <td>79132.5700</td>\n",
       "    </tr>\n",
       "    <tr>\n",
       "      <th>1</th>\n",
       "      <td>Bloodstream infections</td>\n",
       "      <td>NaN</td>\n",
       "      <td>2021</td>\n",
       "      <td>2948664.200</td>\n",
       "      <td>456058.7200</td>\n",
       "    </tr>\n",
       "    <tr>\n",
       "      <th>2</th>\n",
       "      <td>Bone and joint infections</td>\n",
       "      <td>NaN</td>\n",
       "      <td>2021</td>\n",
       "      <td>21338.693</td>\n",
       "      <td>3165.9866</td>\n",
       "    </tr>\n",
       "    <tr>\n",
       "      <th>3</th>\n",
       "      <td>Diarrhea</td>\n",
       "      <td>NaN</td>\n",
       "      <td>2021</td>\n",
       "      <td>1167751.200</td>\n",
       "      <td>26972.7190</td>\n",
       "    </tr>\n",
       "    <tr>\n",
       "      <th>4</th>\n",
       "      <td>Endocarditis</td>\n",
       "      <td>NaN</td>\n",
       "      <td>2021</td>\n",
       "      <td>89064.664</td>\n",
       "      <td>15466.6590</td>\n",
       "    </tr>\n",
       "  </tbody>\n",
       "</table>\n",
       "</div>"
      ],
      "text/plain": [
       "                      Entity  Code  Year  death_not_ARM    death_ARM\n",
       "0       Abdominal infections   NaN  2021     567226.400   79132.5700\n",
       "1     Bloodstream infections   NaN  2021    2948664.200  456058.7200\n",
       "2  Bone and joint infections   NaN  2021      21338.693    3165.9866\n",
       "3                   Diarrhea   NaN  2021    1167751.200   26972.7190\n",
       "4               Endocarditis   NaN  2021      89064.664   15466.6590"
      ]
     },
     "execution_count": 292,
     "metadata": {},
     "output_type": "execute_result"
    }
   ],
   "source": [
    "global_deaths.head()"
   ]
  },
  {
   "cell_type": "code",
   "execution_count": 293,
   "id": "822e51ce",
   "metadata": {},
   "outputs": [],
   "source": [
    "# 2024 Yılında hangi ülkelerde deniz canlıları için antibiyotik yasası var, (Bunu kullanacaksak ülke de deniz var mı yok mu ona da bakalım)\n",
    "laws_am_aqua= pd.read_csv('simple_data/laws-antimicrobials-aquatic.csv')"
   ]
  },
  {
   "cell_type": "code",
   "execution_count": 294,
   "id": "d2379e75",
   "metadata": {},
   "outputs": [
    {
     "data": {
      "application/vnd.microsoft.datawrangler.viewer.v0+json": {
       "columns": [
        {
         "name": "index",
         "rawType": "int64",
         "type": "integer"
        },
        {
         "name": "Entity",
         "rawType": "object",
         "type": "string"
        },
        {
         "name": "Code",
         "rawType": "object",
         "type": "string"
        },
        {
         "name": "Year",
         "rawType": "int64",
         "type": "integer"
        },
        {
         "name": "antimicrobial_aqua_law",
         "rawType": "object",
         "type": "string"
        }
       ],
       "ref": "37826460-c334-4eae-932c-4050aad05255",
       "rows": [
        [
         "0",
         "Afghanistan",
         "AFG",
         "2024",
         "No "
        ],
        [
         "1",
         "Albania",
         "ALB",
         "2024",
         "No "
        ],
        [
         "2",
         "Algeria",
         "DZA",
         "2024",
         "Yes "
        ],
        [
         "3",
         "Andorra",
         "AND",
         "2024",
         "Yes "
        ],
        [
         "4",
         "Angola",
         "AGO",
         "2024",
         "No "
        ]
       ],
       "shape": {
        "columns": 4,
        "rows": 5
       }
      },
      "text/html": [
       "<div>\n",
       "<style scoped>\n",
       "    .dataframe tbody tr th:only-of-type {\n",
       "        vertical-align: middle;\n",
       "    }\n",
       "\n",
       "    .dataframe tbody tr th {\n",
       "        vertical-align: top;\n",
       "    }\n",
       "\n",
       "    .dataframe thead th {\n",
       "        text-align: right;\n",
       "    }\n",
       "</style>\n",
       "<table border=\"1\" class=\"dataframe\">\n",
       "  <thead>\n",
       "    <tr style=\"text-align: right;\">\n",
       "      <th></th>\n",
       "      <th>Entity</th>\n",
       "      <th>Code</th>\n",
       "      <th>Year</th>\n",
       "      <th>antimicrobial_aqua_law</th>\n",
       "    </tr>\n",
       "  </thead>\n",
       "  <tbody>\n",
       "    <tr>\n",
       "      <th>0</th>\n",
       "      <td>Afghanistan</td>\n",
       "      <td>AFG</td>\n",
       "      <td>2024</td>\n",
       "      <td>No</td>\n",
       "    </tr>\n",
       "    <tr>\n",
       "      <th>1</th>\n",
       "      <td>Albania</td>\n",
       "      <td>ALB</td>\n",
       "      <td>2024</td>\n",
       "      <td>No</td>\n",
       "    </tr>\n",
       "    <tr>\n",
       "      <th>2</th>\n",
       "      <td>Algeria</td>\n",
       "      <td>DZA</td>\n",
       "      <td>2024</td>\n",
       "      <td>Yes</td>\n",
       "    </tr>\n",
       "    <tr>\n",
       "      <th>3</th>\n",
       "      <td>Andorra</td>\n",
       "      <td>AND</td>\n",
       "      <td>2024</td>\n",
       "      <td>Yes</td>\n",
       "    </tr>\n",
       "    <tr>\n",
       "      <th>4</th>\n",
       "      <td>Angola</td>\n",
       "      <td>AGO</td>\n",
       "      <td>2024</td>\n",
       "      <td>No</td>\n",
       "    </tr>\n",
       "  </tbody>\n",
       "</table>\n",
       "</div>"
      ],
      "text/plain": [
       "        Entity Code  Year antimicrobial_aqua_law\n",
       "0  Afghanistan  AFG  2024                    No \n",
       "1      Albania  ALB  2024                    No \n",
       "2      Algeria  DZA  2024                   Yes \n",
       "3      Andorra  AND  2024                   Yes \n",
       "4       Angola  AGO  2024                    No "
      ]
     },
     "execution_count": 294,
     "metadata": {},
     "output_type": "execute_result"
    }
   ],
   "source": [
    "laws_am_aqua.head()"
   ]
  },
  {
   "cell_type": "code",
   "execution_count": 295,
   "id": "8823cb56",
   "metadata": {},
   "outputs": [],
   "source": [
    "# 2024 Yılında hangi ülkelerde besi hayvanları için antibiyotik yasası var\n",
    "laws_am_livestock= pd.read_csv('simple_data/laws-antimicrobials-livestock.csv')"
   ]
  },
  {
   "cell_type": "code",
   "execution_count": 296,
   "id": "c939c920",
   "metadata": {},
   "outputs": [
    {
     "data": {
      "application/vnd.microsoft.datawrangler.viewer.v0+json": {
       "columns": [
        {
         "name": "index",
         "rawType": "int64",
         "type": "integer"
        },
        {
         "name": "Entity",
         "rawType": "object",
         "type": "string"
        },
        {
         "name": "Code",
         "rawType": "object",
         "type": "string"
        },
        {
         "name": "Year",
         "rawType": "int64",
         "type": "integer"
        },
        {
         "name": "antimicrobial_livestock_law",
         "rawType": "object",
         "type": "string"
        }
       ],
       "ref": "e8e660dd-a5b6-4e3a-ab96-416e391ee066",
       "rows": [
        [
         "0",
         "Afghanistan",
         "AFG",
         "2024",
         "Yes "
        ],
        [
         "1",
         "Albania",
         "ALB",
         "2024",
         "No "
        ],
        [
         "2",
         "Algeria",
         "DZA",
         "2024",
         "Yes "
        ],
        [
         "3",
         "Andorra",
         "AND",
         "2024",
         "Yes "
        ],
        [
         "4",
         "Angola",
         "AGO",
         "2024",
         "No "
        ]
       ],
       "shape": {
        "columns": 4,
        "rows": 5
       }
      },
      "text/html": [
       "<div>\n",
       "<style scoped>\n",
       "    .dataframe tbody tr th:only-of-type {\n",
       "        vertical-align: middle;\n",
       "    }\n",
       "\n",
       "    .dataframe tbody tr th {\n",
       "        vertical-align: top;\n",
       "    }\n",
       "\n",
       "    .dataframe thead th {\n",
       "        text-align: right;\n",
       "    }\n",
       "</style>\n",
       "<table border=\"1\" class=\"dataframe\">\n",
       "  <thead>\n",
       "    <tr style=\"text-align: right;\">\n",
       "      <th></th>\n",
       "      <th>Entity</th>\n",
       "      <th>Code</th>\n",
       "      <th>Year</th>\n",
       "      <th>antimicrobial_livestock_law</th>\n",
       "    </tr>\n",
       "  </thead>\n",
       "  <tbody>\n",
       "    <tr>\n",
       "      <th>0</th>\n",
       "      <td>Afghanistan</td>\n",
       "      <td>AFG</td>\n",
       "      <td>2024</td>\n",
       "      <td>Yes</td>\n",
       "    </tr>\n",
       "    <tr>\n",
       "      <th>1</th>\n",
       "      <td>Albania</td>\n",
       "      <td>ALB</td>\n",
       "      <td>2024</td>\n",
       "      <td>No</td>\n",
       "    </tr>\n",
       "    <tr>\n",
       "      <th>2</th>\n",
       "      <td>Algeria</td>\n",
       "      <td>DZA</td>\n",
       "      <td>2024</td>\n",
       "      <td>Yes</td>\n",
       "    </tr>\n",
       "    <tr>\n",
       "      <th>3</th>\n",
       "      <td>Andorra</td>\n",
       "      <td>AND</td>\n",
       "      <td>2024</td>\n",
       "      <td>Yes</td>\n",
       "    </tr>\n",
       "    <tr>\n",
       "      <th>4</th>\n",
       "      <td>Angola</td>\n",
       "      <td>AGO</td>\n",
       "      <td>2024</td>\n",
       "      <td>No</td>\n",
       "    </tr>\n",
       "  </tbody>\n",
       "</table>\n",
       "</div>"
      ],
      "text/plain": [
       "        Entity Code  Year antimicrobial_livestock_law\n",
       "0  Afghanistan  AFG  2024                        Yes \n",
       "1      Albania  ALB  2024                         No \n",
       "2      Algeria  DZA  2024                        Yes \n",
       "3      Andorra  AND  2024                        Yes \n",
       "4       Angola  AGO  2024                         No "
      ]
     },
     "execution_count": 296,
     "metadata": {},
     "output_type": "execute_result"
    }
   ],
   "source": [
    "laws_am_livestock.head()"
   ]
  },
  {
   "cell_type": "code",
   "execution_count": 297,
   "id": "b3969144",
   "metadata": {},
   "outputs": [],
   "source": [
    "# 2010-2022 arası, Avrupa ülkelerinde besi hayvanları için antibiyotik satış miktarları (mg per PCU)\n",
    "sales_am_livestock = pd.read_csv('simple_data/sales-antibiotics-livestock-europe.csv')"
   ]
  },
  {
   "cell_type": "code",
   "execution_count": 298,
   "id": "7edd3f98",
   "metadata": {},
   "outputs": [
    {
     "data": {
      "application/vnd.microsoft.datawrangler.viewer.v0+json": {
       "columns": [
        {
         "name": "index",
         "rawType": "int64",
         "type": "integer"
        },
        {
         "name": "Entity",
         "rawType": "object",
         "type": "string"
        },
        {
         "name": "Code",
         "rawType": "object",
         "type": "string"
        },
        {
         "name": "Year",
         "rawType": "int64",
         "type": "integer"
        },
        {
         "name": "livestock_am_sales",
         "rawType": "float64",
         "type": "float"
        }
       ],
       "ref": "fa452403-de37-45f9-9eb7-10aa703ff9b2",
       "rows": [
        [
         "0",
         "Austria",
         "AUT",
         "2010",
         "62.5599"
        ],
        [
         "1",
         "Austria",
         "AUT",
         "2011",
         "53.16474"
        ],
        [
         "2",
         "Austria",
         "AUT",
         "2012",
         "52.942028"
        ],
        [
         "3",
         "Austria",
         "AUT",
         "2013",
         "54.70048"
        ],
        [
         "4",
         "Austria",
         "AUT",
         "2014",
         "53.389847"
        ]
       ],
       "shape": {
        "columns": 4,
        "rows": 5
       }
      },
      "text/html": [
       "<div>\n",
       "<style scoped>\n",
       "    .dataframe tbody tr th:only-of-type {\n",
       "        vertical-align: middle;\n",
       "    }\n",
       "\n",
       "    .dataframe tbody tr th {\n",
       "        vertical-align: top;\n",
       "    }\n",
       "\n",
       "    .dataframe thead th {\n",
       "        text-align: right;\n",
       "    }\n",
       "</style>\n",
       "<table border=\"1\" class=\"dataframe\">\n",
       "  <thead>\n",
       "    <tr style=\"text-align: right;\">\n",
       "      <th></th>\n",
       "      <th>Entity</th>\n",
       "      <th>Code</th>\n",
       "      <th>Year</th>\n",
       "      <th>livestock_am_sales</th>\n",
       "    </tr>\n",
       "  </thead>\n",
       "  <tbody>\n",
       "    <tr>\n",
       "      <th>0</th>\n",
       "      <td>Austria</td>\n",
       "      <td>AUT</td>\n",
       "      <td>2010</td>\n",
       "      <td>62.559900</td>\n",
       "    </tr>\n",
       "    <tr>\n",
       "      <th>1</th>\n",
       "      <td>Austria</td>\n",
       "      <td>AUT</td>\n",
       "      <td>2011</td>\n",
       "      <td>53.164740</td>\n",
       "    </tr>\n",
       "    <tr>\n",
       "      <th>2</th>\n",
       "      <td>Austria</td>\n",
       "      <td>AUT</td>\n",
       "      <td>2012</td>\n",
       "      <td>52.942028</td>\n",
       "    </tr>\n",
       "    <tr>\n",
       "      <th>3</th>\n",
       "      <td>Austria</td>\n",
       "      <td>AUT</td>\n",
       "      <td>2013</td>\n",
       "      <td>54.700480</td>\n",
       "    </tr>\n",
       "    <tr>\n",
       "      <th>4</th>\n",
       "      <td>Austria</td>\n",
       "      <td>AUT</td>\n",
       "      <td>2014</td>\n",
       "      <td>53.389847</td>\n",
       "    </tr>\n",
       "  </tbody>\n",
       "</table>\n",
       "</div>"
      ],
      "text/plain": [
       "    Entity Code  Year  livestock_am_sales\n",
       "0  Austria  AUT  2010           62.559900\n",
       "1  Austria  AUT  2011           53.164740\n",
       "2  Austria  AUT  2012           52.942028\n",
       "3  Austria  AUT  2013           54.700480\n",
       "4  Austria  AUT  2014           53.389847"
      ]
     },
     "execution_count": 298,
     "metadata": {},
     "output_type": "execute_result"
    }
   ],
   "source": [
    "sales_am_livestock.head()"
   ]
  },
  {
   "cell_type": "code",
   "execution_count": 299,
   "id": "334bd11f",
   "metadata": {},
   "outputs": [
    {
     "data": {
      "text/plain": [
       "array(['Austria', 'Belgium', 'Bulgaria', 'Croatia', 'Cyprus', 'Czechia',\n",
       "       'Denmark', 'Estonia', 'Finland', 'France', 'Germany', 'Greece',\n",
       "       'Hungary', 'Iceland', 'Ireland', 'Italy', 'Latvia', 'Lithuania',\n",
       "       'Luxembourg', 'Malta', 'Netherlands', 'Norway', 'Poland',\n",
       "       'Portugal', 'Romania', 'Slovakia', 'Slovenia', 'Spain', 'Sweden',\n",
       "       'Switzerland', 'United Kingdom'], dtype=object)"
      ]
     },
     "execution_count": 299,
     "metadata": {},
     "output_type": "execute_result"
    }
   ],
   "source": [
    "sales_am_livestock.Entity.unique()"
   ]
  },
  {
   "cell_type": "code",
   "execution_count": 300,
   "id": "b9484505",
   "metadata": {},
   "outputs": [],
   "source": [
    "# WHO Regionlarına göre bazı enfoksiyonların toplam enfoksiyonlar içindeki payı (2016-2022)\n",
    "regional_infection_share = pd.read_csv('simple_data/regional_infection_share.csv')"
   ]
  },
  {
   "cell_type": "code",
   "execution_count": 301,
   "id": "8dad08ad",
   "metadata": {},
   "outputs": [
    {
     "data": {
      "application/vnd.microsoft.datawrangler.viewer.v0+json": {
       "columns": [
        {
         "name": "index",
         "rawType": "int64",
         "type": "integer"
        },
        {
         "name": "Entity",
         "rawType": "object",
         "type": "string"
        },
        {
         "name": "Code",
         "rawType": "object",
         "type": "unknown"
        },
        {
         "name": "Year",
         "rawType": "int64",
         "type": "integer"
        },
        {
         "name": "Share of countries reporting confirmed bloodstream infections",
         "rawType": "float64",
         "type": "float"
        },
        {
         "name": "Share of countries reporting confirmed gonorrhea infections",
         "rawType": "float64",
         "type": "float"
        },
        {
         "name": "Share of countries reporting confirmed gastrointestinal infections",
         "rawType": "float64",
         "type": "float"
        },
        {
         "name": "Share of countries reporting confirmed urinary tract infections",
         "rawType": "float64",
         "type": "float"
        }
       ],
       "ref": "abc7bb45-97c3-44ee-b266-c4200c7e868c",
       "rows": [
        [
         "0",
         "African Region (WHO)",
         null,
         "2016",
         "10.638298",
         "8.510638",
         "4.255319",
         "4.255319"
        ],
        [
         "1",
         "African Region (WHO)",
         null,
         "2017",
         "12.765958",
         "8.510638",
         "8.510638",
         "6.382979"
        ],
        [
         "2",
         "African Region (WHO)",
         null,
         "2018",
         "14.893617",
         "6.382979",
         "8.510638",
         "8.510638"
        ],
        [
         "3",
         "African Region (WHO)",
         null,
         "2019",
         "17.021276",
         "8.510638",
         "10.638298",
         "12.765958"
        ],
        [
         "4",
         "African Region (WHO)",
         null,
         "2020",
         "31.914894",
         "14.893617",
         "19.148935",
         "23.404255"
        ]
       ],
       "shape": {
        "columns": 7,
        "rows": 5
       }
      },
      "text/html": [
       "<div>\n",
       "<style scoped>\n",
       "    .dataframe tbody tr th:only-of-type {\n",
       "        vertical-align: middle;\n",
       "    }\n",
       "\n",
       "    .dataframe tbody tr th {\n",
       "        vertical-align: top;\n",
       "    }\n",
       "\n",
       "    .dataframe thead th {\n",
       "        text-align: right;\n",
       "    }\n",
       "</style>\n",
       "<table border=\"1\" class=\"dataframe\">\n",
       "  <thead>\n",
       "    <tr style=\"text-align: right;\">\n",
       "      <th></th>\n",
       "      <th>Entity</th>\n",
       "      <th>Code</th>\n",
       "      <th>Year</th>\n",
       "      <th>Share of countries reporting confirmed bloodstream infections</th>\n",
       "      <th>Share of countries reporting confirmed gonorrhea infections</th>\n",
       "      <th>Share of countries reporting confirmed gastrointestinal infections</th>\n",
       "      <th>Share of countries reporting confirmed urinary tract infections</th>\n",
       "    </tr>\n",
       "  </thead>\n",
       "  <tbody>\n",
       "    <tr>\n",
       "      <th>0</th>\n",
       "      <td>African Region (WHO)</td>\n",
       "      <td>NaN</td>\n",
       "      <td>2016</td>\n",
       "      <td>10.638298</td>\n",
       "      <td>8.510638</td>\n",
       "      <td>4.255319</td>\n",
       "      <td>4.255319</td>\n",
       "    </tr>\n",
       "    <tr>\n",
       "      <th>1</th>\n",
       "      <td>African Region (WHO)</td>\n",
       "      <td>NaN</td>\n",
       "      <td>2017</td>\n",
       "      <td>12.765958</td>\n",
       "      <td>8.510638</td>\n",
       "      <td>8.510638</td>\n",
       "      <td>6.382979</td>\n",
       "    </tr>\n",
       "    <tr>\n",
       "      <th>2</th>\n",
       "      <td>African Region (WHO)</td>\n",
       "      <td>NaN</td>\n",
       "      <td>2018</td>\n",
       "      <td>14.893617</td>\n",
       "      <td>6.382979</td>\n",
       "      <td>8.510638</td>\n",
       "      <td>8.510638</td>\n",
       "    </tr>\n",
       "    <tr>\n",
       "      <th>3</th>\n",
       "      <td>African Region (WHO)</td>\n",
       "      <td>NaN</td>\n",
       "      <td>2019</td>\n",
       "      <td>17.021276</td>\n",
       "      <td>8.510638</td>\n",
       "      <td>10.638298</td>\n",
       "      <td>12.765958</td>\n",
       "    </tr>\n",
       "    <tr>\n",
       "      <th>4</th>\n",
       "      <td>African Region (WHO)</td>\n",
       "      <td>NaN</td>\n",
       "      <td>2020</td>\n",
       "      <td>31.914894</td>\n",
       "      <td>14.893617</td>\n",
       "      <td>19.148935</td>\n",
       "      <td>23.404255</td>\n",
       "    </tr>\n",
       "  </tbody>\n",
       "</table>\n",
       "</div>"
      ],
      "text/plain": [
       "                 Entity Code  Year  \\\n",
       "0  African Region (WHO)  NaN  2016   \n",
       "1  African Region (WHO)  NaN  2017   \n",
       "2  African Region (WHO)  NaN  2018   \n",
       "3  African Region (WHO)  NaN  2019   \n",
       "4  African Region (WHO)  NaN  2020   \n",
       "\n",
       "   Share of countries reporting confirmed bloodstream infections  \\\n",
       "0                                          10.638298               \n",
       "1                                          12.765958               \n",
       "2                                          14.893617               \n",
       "3                                          17.021276               \n",
       "4                                          31.914894               \n",
       "\n",
       "   Share of countries reporting confirmed gonorrhea infections  \\\n",
       "0                                           8.510638             \n",
       "1                                           8.510638             \n",
       "2                                           6.382979             \n",
       "3                                           8.510638             \n",
       "4                                          14.893617             \n",
       "\n",
       "   Share of countries reporting confirmed gastrointestinal infections  \\\n",
       "0                                           4.255319                    \n",
       "1                                           8.510638                    \n",
       "2                                           8.510638                    \n",
       "3                                          10.638298                    \n",
       "4                                          19.148935                    \n",
       "\n",
       "   Share of countries reporting confirmed urinary tract infections  \n",
       "0                                           4.255319                \n",
       "1                                           6.382979                \n",
       "2                                           8.510638                \n",
       "3                                          12.765958                \n",
       "4                                          23.404255                "
      ]
     },
     "execution_count": 301,
     "metadata": {},
     "output_type": "execute_result"
    }
   ],
   "source": [
    "regional_infection_share.head()"
   ]
  },
  {
   "cell_type": "code",
   "execution_count": 302,
   "id": "c04a0205",
   "metadata": {},
   "outputs": [],
   "source": [
    "# E.coli enfeksiyonun yüzde kaçı ARM, ülke bazlı (2016-2021)\n",
    "e_coli_resistance = pd.read_csv('simple_data/e_coli_ARM.csv') "
   ]
  },
  {
   "cell_type": "code",
   "execution_count": 303,
   "id": "143e0560",
   "metadata": {},
   "outputs": [
    {
     "data": {
      "application/vnd.microsoft.datawrangler.viewer.v0+json": {
       "columns": [
        {
         "name": "index",
         "rawType": "int64",
         "type": "integer"
        },
        {
         "name": "Entity",
         "rawType": "object",
         "type": "string"
        },
        {
         "name": "Code",
         "rawType": "object",
         "type": "string"
        },
        {
         "name": "Year",
         "rawType": "int64",
         "type": "integer"
        },
        {
         "name": "e_coli_ARM_percent",
         "rawType": "float64",
         "type": "float"
        }
       ],
       "ref": "52f0fdd7-27e0-47ee-a2d9-d12b3cfaff81",
       "rows": [
        [
         "0",
         " Afghanistan",
         "AFG",
         "2017",
         "88.24"
        ],
        [
         "1",
         " Afghanistan",
         "AFG",
         "2018",
         "85.11"
        ],
        [
         "2",
         " Afghanistan",
         "AFG",
         "2019",
         "84.62"
        ],
        [
         "3",
         " Afghanistan",
         "AFG",
         "2020",
         "83.33"
        ],
        [
         "4",
         " Afghanistan",
         "AFG",
         "2021",
         "80.77"
        ]
       ],
       "shape": {
        "columns": 4,
        "rows": 5
       }
      },
      "text/html": [
       "<div>\n",
       "<style scoped>\n",
       "    .dataframe tbody tr th:only-of-type {\n",
       "        vertical-align: middle;\n",
       "    }\n",
       "\n",
       "    .dataframe tbody tr th {\n",
       "        vertical-align: top;\n",
       "    }\n",
       "\n",
       "    .dataframe thead th {\n",
       "        text-align: right;\n",
       "    }\n",
       "</style>\n",
       "<table border=\"1\" class=\"dataframe\">\n",
       "  <thead>\n",
       "    <tr style=\"text-align: right;\">\n",
       "      <th></th>\n",
       "      <th>Entity</th>\n",
       "      <th>Code</th>\n",
       "      <th>Year</th>\n",
       "      <th>e_coli_ARM_percent</th>\n",
       "    </tr>\n",
       "  </thead>\n",
       "  <tbody>\n",
       "    <tr>\n",
       "      <th>0</th>\n",
       "      <td>Afghanistan</td>\n",
       "      <td>AFG</td>\n",
       "      <td>2017</td>\n",
       "      <td>88.24</td>\n",
       "    </tr>\n",
       "    <tr>\n",
       "      <th>1</th>\n",
       "      <td>Afghanistan</td>\n",
       "      <td>AFG</td>\n",
       "      <td>2018</td>\n",
       "      <td>85.11</td>\n",
       "    </tr>\n",
       "    <tr>\n",
       "      <th>2</th>\n",
       "      <td>Afghanistan</td>\n",
       "      <td>AFG</td>\n",
       "      <td>2019</td>\n",
       "      <td>84.62</td>\n",
       "    </tr>\n",
       "    <tr>\n",
       "      <th>3</th>\n",
       "      <td>Afghanistan</td>\n",
       "      <td>AFG</td>\n",
       "      <td>2020</td>\n",
       "      <td>83.33</td>\n",
       "    </tr>\n",
       "    <tr>\n",
       "      <th>4</th>\n",
       "      <td>Afghanistan</td>\n",
       "      <td>AFG</td>\n",
       "      <td>2021</td>\n",
       "      <td>80.77</td>\n",
       "    </tr>\n",
       "  </tbody>\n",
       "</table>\n",
       "</div>"
      ],
      "text/plain": [
       "         Entity Code  Year  e_coli_ARM_percent\n",
       "0   Afghanistan  AFG  2017               88.24\n",
       "1   Afghanistan  AFG  2018               85.11\n",
       "2   Afghanistan  AFG  2019               84.62\n",
       "3   Afghanistan  AFG  2020               83.33\n",
       "4   Afghanistan  AFG  2021               80.77"
      ]
     },
     "execution_count": 303,
     "metadata": {},
     "output_type": "execute_result"
    }
   ],
   "source": [
    "e_coli_resistance.head()"
   ]
  },
  {
   "cell_type": "code",
   "execution_count": 304,
   "id": "487acd03",
   "metadata": {},
   "outputs": [],
   "source": [
    "# E.coli enfeksiyonun yüzde kaçı ARM, ülke bazlı (2016-2021)\n",
    "s_aureus_resistance = pd.read_csv('simple_data/s_aureus_ARM.csv')"
   ]
  },
  {
   "cell_type": "code",
   "execution_count": 305,
   "id": "ca13e954",
   "metadata": {},
   "outputs": [
    {
     "data": {
      "application/vnd.microsoft.datawrangler.viewer.v0+json": {
       "columns": [
        {
         "name": "index",
         "rawType": "int64",
         "type": "integer"
        },
        {
         "name": "Entity",
         "rawType": "object",
         "type": "string"
        },
        {
         "name": "Code",
         "rawType": "object",
         "type": "unknown"
        },
        {
         "name": "Year",
         "rawType": "int64",
         "type": "integer"
        },
        {
         "name": "s_aureus_ARM_percent",
         "rawType": "float64",
         "type": "float"
        }
       ],
       "ref": "3b4740c5-89e0-497c-8a3e-cd161fded7de",
       "rows": [
        [
         "0",
         "Africa (UN)",
         null,
         "2019",
         "17.44"
        ],
        [
         "1",
         "Africa (UN)",
         null,
         "2020",
         "60.59"
        ],
        [
         "2",
         "Africa (UN)",
         null,
         "2021",
         "44.12"
        ],
        [
         "3",
         "Argentina",
         "ARG",
         "2017",
         "45.0"
        ],
        [
         "4",
         "Argentina",
         "ARG",
         "2018",
         "42.5"
        ]
       ],
       "shape": {
        "columns": 4,
        "rows": 5
       }
      },
      "text/html": [
       "<div>\n",
       "<style scoped>\n",
       "    .dataframe tbody tr th:only-of-type {\n",
       "        vertical-align: middle;\n",
       "    }\n",
       "\n",
       "    .dataframe tbody tr th {\n",
       "        vertical-align: top;\n",
       "    }\n",
       "\n",
       "    .dataframe thead th {\n",
       "        text-align: right;\n",
       "    }\n",
       "</style>\n",
       "<table border=\"1\" class=\"dataframe\">\n",
       "  <thead>\n",
       "    <tr style=\"text-align: right;\">\n",
       "      <th></th>\n",
       "      <th>Entity</th>\n",
       "      <th>Code</th>\n",
       "      <th>Year</th>\n",
       "      <th>s_aureus_ARM_percent</th>\n",
       "    </tr>\n",
       "  </thead>\n",
       "  <tbody>\n",
       "    <tr>\n",
       "      <th>0</th>\n",
       "      <td>Africa (UN)</td>\n",
       "      <td>NaN</td>\n",
       "      <td>2019</td>\n",
       "      <td>17.44</td>\n",
       "    </tr>\n",
       "    <tr>\n",
       "      <th>1</th>\n",
       "      <td>Africa (UN)</td>\n",
       "      <td>NaN</td>\n",
       "      <td>2020</td>\n",
       "      <td>60.59</td>\n",
       "    </tr>\n",
       "    <tr>\n",
       "      <th>2</th>\n",
       "      <td>Africa (UN)</td>\n",
       "      <td>NaN</td>\n",
       "      <td>2021</td>\n",
       "      <td>44.12</td>\n",
       "    </tr>\n",
       "    <tr>\n",
       "      <th>3</th>\n",
       "      <td>Argentina</td>\n",
       "      <td>ARG</td>\n",
       "      <td>2017</td>\n",
       "      <td>45.00</td>\n",
       "    </tr>\n",
       "    <tr>\n",
       "      <th>4</th>\n",
       "      <td>Argentina</td>\n",
       "      <td>ARG</td>\n",
       "      <td>2018</td>\n",
       "      <td>42.50</td>\n",
       "    </tr>\n",
       "  </tbody>\n",
       "</table>\n",
       "</div>"
      ],
      "text/plain": [
       "        Entity Code  Year  s_aureus_ARM_percent\n",
       "0  Africa (UN)  NaN  2019                 17.44\n",
       "1  Africa (UN)  NaN  2020                 60.59\n",
       "2  Africa (UN)  NaN  2021                 44.12\n",
       "3    Argentina  ARG  2017                 45.00\n",
       "4    Argentina  ARG  2018                 42.50"
      ]
     },
     "execution_count": 305,
     "metadata": {},
     "output_type": "execute_result"
    }
   ],
   "source": [
    "s_aureus_resistance.head()"
   ]
  },
  {
   "cell_type": "markdown",
   "id": "d0755774",
   "metadata": {},
   "source": [
    "Projeksiyon ve Simülasyon için Yol Haritası\n",
    "Bu projeyi, birlikte adım adım ilerletebileceğimiz yönetilebilir aşamalara bölebiliriz:\n",
    "\n",
    "Adım 1: Hedef ve Kapsam Belirleme Önce neyi tahmin etmek istediğimizi (Hedef Değişken - Target) ve hangi parametreleri (Özellikler - Features) simülasyonda \"değiştirmek\" istediğimizi netleştirmeliyiz.\n",
    "\n",
    "Potansiyel Hedefler (Tahmin Edilecekler):\n",
    "\n",
    "E. coli direnç oranı (Veri: e_coli_resistance.csv)\n",
    "\n",
    "S. aureus (MRSA) direnç oranı (Veri: s_aureus_resistance.csv)\n",
    "\n",
    "Ülke bazlı toplam antibiyotik tüketimi (Veri: antibiotic-consumption-rate.csv)\n",
    "\n",
    "Potansiyel Parametreler (Değiştirilecek Girdiler):\n",
    "\n",
    "Besi hayvanları için antibiyotik yasaları (Veri: laws_am_livestock.csv)\n",
    "\n",
    "Deniz canlıları için yasalar (Veri: laws_am_aqua.csv)\n",
    "\n",
    "GLASS üyeliği durumu (Veri: glass_countries.csv)\n",
    "\n",
    "Avrupa'da besi hayvanlarına satışlar (Veri: sales_am_livestock.csv)\n",
    "\n",
    "Adım 2: Birleşik \"Ana Veri Seti\" (Master DataFrame) Oluşturma Bu simülasyonu yapabilmek için, seçtiğimiz hedefi ve parametreleri \"Ülke\" ve \"Yıl\" bazında tek bir tabloda birleştirmemiz gerekir. Buna \"panel veri\" denir.\n",
    "\n",
    "Adım 3: Temel Model (Baseline Forecast) Oluşturma Parametreleri değiştirmeden önce, \"hiçbir şey değişmezse\" 2030'da ne olacağını görmek için seçtiğimiz hedef değişken (örn: E. coli direnci) için bir zaman serisi tahmini yaparız. Bu bizim \"Temel Senaryomuz\" olur.\n",
    "\n",
    "Adım 4: Simülasyon Modeli (Scenario Analysis) Geliştirme Burası sizin \"parametreleri değiştirirsek ne olur?\" dediğiniz kısımdır.\n",
    "\n",
    "Örnek Senaryo A: \"2025 yılından itibaren tüm ülkeler besi hayvanları için antibiyotik yasasını (laws_am_livestock) 'Evet' olarak uygularsa, 2030'daki E. coli direnç projeksiyonu nasıl değişir?\"\n",
    "\n",
    "Örnek Senaryo B: \"Avrupa ülkeleri, besi hayvanlarına antibiyotik satışlarını (sales_am_livestock) her yıl %5 azaltırsa, toplam tüketim (antibiotic_consumption) nasıl etkilenir?\""
   ]
  },
  {
   "cell_type": "markdown",
   "id": "95bca153",
   "metadata": {},
   "source": [
    "### DDD (Daily defined doses of antibiotics)\n",
    "### DID (Daily)"
   ]
  },
  {
   "cell_type": "code",
   "execution_count": 306,
   "id": "63c13eda",
   "metadata": {},
   "outputs": [
    {
     "data": {
      "application/vnd.microsoft.datawrangler.viewer.v0+json": {
       "columns": [
        {
         "name": "index",
         "rawType": "int64",
         "type": "integer"
        },
        {
         "name": "WHORegionCode",
         "rawType": "object",
         "type": "string"
        },
        {
         "name": "WHORegionName",
         "rawType": "object",
         "type": "string"
        },
        {
         "name": "CountryIso3",
         "rawType": "object",
         "type": "string"
        },
        {
         "name": "Entity",
         "rawType": "object",
         "type": "string"
        },
        {
         "name": "IncomeWorldBankJune",
         "rawType": "object",
         "type": "string"
        },
        {
         "name": "Year",
         "rawType": "int64",
         "type": "integer"
        },
        {
         "name": "AntimicrobialClass",
         "rawType": "object",
         "type": "string"
        },
        {
         "name": "AWaRe",
         "rawType": "object",
         "type": "string"
        },
        {
         "name": "AWaReLabel",
         "rawType": "object",
         "type": "string"
        },
        {
         "name": "RouteOfAdministration",
         "rawType": "object",
         "type": "string"
        },
        {
         "name": "DDD",
         "rawType": "float64",
         "type": "float"
        },
        {
         "name": "DID",
         "rawType": "float64",
         "type": "float"
        },
        {
         "name": "Note",
         "rawType": "object",
         "type": "unknown"
        }
       ],
       "ref": "a185f01d-55a4-44a4-9314-ba2825e8eaa8",
       "rows": [
        [
         "0",
         "EUR",
         "European Region",
         "ARM",
         "Armenia",
         "Lower middle income",
         "2016",
         "Antibacterials (ATC J01, A07AA, P01AB)",
         "A",
         "Ãƒccess",
         "O",
         "5599337.01627",
         "5.255819566",
         null
        ],
        [
         "1",
         "EUR",
         "European Region",
         "ARM",
         "Armenia",
         "Lower middle income",
         "2016",
         "Antibacterials (ATC J01, A07AA, P01AB)",
         "O",
         "Not classified/recommended",
         "O",
         "65246.5",
         "0.06124365",
         null
        ],
        [
         "2",
         "EUR",
         "European Region",
         "ARM",
         "Armenia",
         "Lower middle income",
         "2016",
         "Antibacterials (ATC J01, A07AA, P01AB)",
         "R",
         "Reserve",
         "O",
         "8997.5",
         "0.008445506",
         null
        ],
        [
         "3",
         "EUR",
         "European Region",
         "ARM",
         "Armenia",
         "Lower middle income",
         "2016",
         "Antibacterials (ATC J01, A07AA, P01AB)",
         "W",
         "Watch",
         "O",
         "3020861.65003",
         "2.835532802",
         null
        ],
        [
         "4",
         "EUR",
         "European Region",
         "ARM",
         "Armenia",
         "Lower middle income",
         "2016",
         "Antibacterials (ATC J01, A07AA, P01AB)",
         "A",
         "Ãƒccess",
         "P",
         "359117.83338",
         "0.337086075",
         null
        ]
       ],
       "shape": {
        "columns": 13,
        "rows": 5
       }
      },
      "text/html": [
       "<div>\n",
       "<style scoped>\n",
       "    .dataframe tbody tr th:only-of-type {\n",
       "        vertical-align: middle;\n",
       "    }\n",
       "\n",
       "    .dataframe tbody tr th {\n",
       "        vertical-align: top;\n",
       "    }\n",
       "\n",
       "    .dataframe thead th {\n",
       "        text-align: right;\n",
       "    }\n",
       "</style>\n",
       "<table border=\"1\" class=\"dataframe\">\n",
       "  <thead>\n",
       "    <tr style=\"text-align: right;\">\n",
       "      <th></th>\n",
       "      <th>WHORegionCode</th>\n",
       "      <th>WHORegionName</th>\n",
       "      <th>CountryIso3</th>\n",
       "      <th>Entity</th>\n",
       "      <th>IncomeWorldBankJune</th>\n",
       "      <th>Year</th>\n",
       "      <th>AntimicrobialClass</th>\n",
       "      <th>AWaRe</th>\n",
       "      <th>AWaReLabel</th>\n",
       "      <th>RouteOfAdministration</th>\n",
       "      <th>DDD</th>\n",
       "      <th>DID</th>\n",
       "      <th>Note</th>\n",
       "    </tr>\n",
       "  </thead>\n",
       "  <tbody>\n",
       "    <tr>\n",
       "      <th>0</th>\n",
       "      <td>EUR</td>\n",
       "      <td>European Region</td>\n",
       "      <td>ARM</td>\n",
       "      <td>Armenia</td>\n",
       "      <td>Lower middle income</td>\n",
       "      <td>2016</td>\n",
       "      <td>Antibacterials (ATC J01, A07AA, P01AB)</td>\n",
       "      <td>A</td>\n",
       "      <td>Ãƒccess</td>\n",
       "      <td>O</td>\n",
       "      <td>5.599337e+06</td>\n",
       "      <td>5.255820</td>\n",
       "      <td>NaN</td>\n",
       "    </tr>\n",
       "    <tr>\n",
       "      <th>1</th>\n",
       "      <td>EUR</td>\n",
       "      <td>European Region</td>\n",
       "      <td>ARM</td>\n",
       "      <td>Armenia</td>\n",
       "      <td>Lower middle income</td>\n",
       "      <td>2016</td>\n",
       "      <td>Antibacterials (ATC J01, A07AA, P01AB)</td>\n",
       "      <td>O</td>\n",
       "      <td>Not classified/recommended</td>\n",
       "      <td>O</td>\n",
       "      <td>6.524650e+04</td>\n",
       "      <td>0.061244</td>\n",
       "      <td>NaN</td>\n",
       "    </tr>\n",
       "    <tr>\n",
       "      <th>2</th>\n",
       "      <td>EUR</td>\n",
       "      <td>European Region</td>\n",
       "      <td>ARM</td>\n",
       "      <td>Armenia</td>\n",
       "      <td>Lower middle income</td>\n",
       "      <td>2016</td>\n",
       "      <td>Antibacterials (ATC J01, A07AA, P01AB)</td>\n",
       "      <td>R</td>\n",
       "      <td>Reserve</td>\n",
       "      <td>O</td>\n",
       "      <td>8.997500e+03</td>\n",
       "      <td>0.008446</td>\n",
       "      <td>NaN</td>\n",
       "    </tr>\n",
       "    <tr>\n",
       "      <th>3</th>\n",
       "      <td>EUR</td>\n",
       "      <td>European Region</td>\n",
       "      <td>ARM</td>\n",
       "      <td>Armenia</td>\n",
       "      <td>Lower middle income</td>\n",
       "      <td>2016</td>\n",
       "      <td>Antibacterials (ATC J01, A07AA, P01AB)</td>\n",
       "      <td>W</td>\n",
       "      <td>Watch</td>\n",
       "      <td>O</td>\n",
       "      <td>3.020862e+06</td>\n",
       "      <td>2.835533</td>\n",
       "      <td>NaN</td>\n",
       "    </tr>\n",
       "    <tr>\n",
       "      <th>4</th>\n",
       "      <td>EUR</td>\n",
       "      <td>European Region</td>\n",
       "      <td>ARM</td>\n",
       "      <td>Armenia</td>\n",
       "      <td>Lower middle income</td>\n",
       "      <td>2016</td>\n",
       "      <td>Antibacterials (ATC J01, A07AA, P01AB)</td>\n",
       "      <td>A</td>\n",
       "      <td>Ãƒccess</td>\n",
       "      <td>P</td>\n",
       "      <td>3.591178e+05</td>\n",
       "      <td>0.337086</td>\n",
       "      <td>NaN</td>\n",
       "    </tr>\n",
       "  </tbody>\n",
       "</table>\n",
       "</div>"
      ],
      "text/plain": [
       "  WHORegionCode    WHORegionName CountryIso3   Entity  IncomeWorldBankJune  \\\n",
       "0           EUR  European Region         ARM  Armenia  Lower middle income   \n",
       "1           EUR  European Region         ARM  Armenia  Lower middle income   \n",
       "2           EUR  European Region         ARM  Armenia  Lower middle income   \n",
       "3           EUR  European Region         ARM  Armenia  Lower middle income   \n",
       "4           EUR  European Region         ARM  Armenia  Lower middle income   \n",
       "\n",
       "   Year                      AntimicrobialClass AWaRe  \\\n",
       "0  2016  Antibacterials (ATC J01, A07AA, P01AB)     A   \n",
       "1  2016  Antibacterials (ATC J01, A07AA, P01AB)     O   \n",
       "2  2016  Antibacterials (ATC J01, A07AA, P01AB)     R   \n",
       "3  2016  Antibacterials (ATC J01, A07AA, P01AB)     W   \n",
       "4  2016  Antibacterials (ATC J01, A07AA, P01AB)     A   \n",
       "\n",
       "                   AWaReLabel RouteOfAdministration           DDD       DID  \\\n",
       "0                     Ãƒccess                     O  5.599337e+06  5.255820   \n",
       "1  Not classified/recommended                     O  6.524650e+04  0.061244   \n",
       "2                     Reserve                     O  8.997500e+03  0.008446   \n",
       "3                       Watch                     O  3.020862e+06  2.835533   \n",
       "4                     Ãƒccess                     P  3.591178e+05  0.337086   \n",
       "\n",
       "  Note  \n",
       "0  NaN  \n",
       "1  NaN  \n",
       "2  NaN  \n",
       "3  NaN  \n",
       "4  NaN  "
      ]
     },
     "execution_count": 306,
     "metadata": {},
     "output_type": "execute_result"
    }
   ],
   "source": [
    "antibiotic_use_aware = antibiotic_use_aware.rename(columns={'CountryTerritoryArea': 'Entity'})\n",
    "antibiotic_use_aware.head()"
   ]
  },
  {
   "cell_type": "code",
   "execution_count": 307,
   "id": "4ad66460",
   "metadata": {},
   "outputs": [
    {
     "name": "stdout",
     "output_type": "stream",
     "text": [
      "Başarıyla tamamlandı. AWaRe oranları 'simple_data/aware_simple.csv' dosyasına kaydedildi.\n",
      "\n",
      "--- 'simple_data/aware_simple.csv' Dosyasının İlk 5 Satırı ---\n",
      "AWaRe   Entity  Year             A        O             R             W  \\\n",
      "0      Armenia  2016  5.958455e+06  66996.5   9097.500000  4.252700e+06   \n",
      "1      Armenia  2017  8.827703e+06  55740.0  16710.000000  4.277344e+06   \n",
      "2      Armenia  2018  8.588727e+06  73779.0  10066.666667  4.833163e+06   \n",
      "3      Armenia  2019  7.226904e+06  51626.5  15400.000000  5.271058e+06   \n",
      "4      Armenia  2020  9.131651e+06  77212.0  24470.000000  1.004218e+07   \n",
      "\n",
      "AWaRe     Total_DDD  Access_pct  Watch_pct  Reserve_pct  Other_pct  \n",
      "0      1.028725e+07   57.920778  41.339529     0.088435   0.651258  \n",
      "1      1.317750e+07   66.990740  32.459459     0.126807   0.422994  \n",
      "2      1.350574e+07   63.593181  35.786004     0.074536   0.546279  \n",
      "3      1.256499e+07   57.516202  41.950359     0.122563   0.410876  \n",
      "4      1.927551e+07   47.374372  52.098109     0.126949   0.400570  \n",
      "\n",
      "--- 'simple_data/aware_simple.csv' Dosyasının Bilgileri (info) ---\n",
      "<class 'pandas.core.frame.DataFrame'>\n",
      "RangeIndex: 414 entries, 0 to 413\n",
      "Data columns (total 11 columns):\n",
      " #   Column       Non-Null Count  Dtype  \n",
      "---  ------       --------------  -----  \n",
      " 0   Entity       414 non-null    object \n",
      " 1   Year         414 non-null    int64  \n",
      " 2   A            414 non-null    float64\n",
      " 3   O            414 non-null    float64\n",
      " 4   R            414 non-null    float64\n",
      " 5   W            414 non-null    float64\n",
      " 6   Total_DDD    414 non-null    float64\n",
      " 7   Access_pct   414 non-null    float64\n",
      " 8   Watch_pct    414 non-null    float64\n",
      " 9   Reserve_pct  414 non-null    float64\n",
      " 10  Other_pct    414 non-null    float64\n",
      "dtypes: float64(9), int64(1), object(1)\n",
      "memory usage: 35.7+ KB\n"
     ]
    }
   ],
   "source": [
    "# AWaRe Kategorilerine Göre Antibiyotik Tüketim Oranları Hesaplama, diğer. datalar ile birleştirme için\n",
    "try:\n",
    "    output_file = 'simple_data/aware_simple.csv'\n",
    "\n",
    "    # 2. Ülke-Yıl-AWaRe bazında DDD toplamlarını hesapla\n",
    "    # Bu bize her bir kategorinin (A, W, R, O) toplamını verecek\n",
    "    aware_grouped = antibiotic_use_aware.groupby(['Entity', 'Year', 'AWaRe'])['DDD'].sum().reset_index()\n",
    "\n",
    "    # 3. Veriyi \"pivot\" et (geniş formata çevir)\n",
    "    # AWaRe kategorilerini (A, W, R, O) sütunlara dönüştür\n",
    "    aware_grouped_pivot = aware_grouped.pivot_table(\n",
    "        index=['Entity', 'Year'], \n",
    "        columns='AWaRe', \n",
    "        values='DDD'\n",
    "    ).reset_index()\n",
    "\n",
    "    # NaN (boş) değerleri 0 ile doldur, çünkü o kategoride tüketim yoktur\n",
    "    aware_grouped_pivot = aware_grouped_pivot.fillna(0)\n",
    "\n",
    "    # 4. Toplam DDD'yi hesapla (tüm kategorilerin toplamı)\n",
    "    # 'O' (Not classified) kategorisi de varsa dahil et\n",
    "    aware_columns = ['A', 'W', 'R']\n",
    "    if 'O' in aware_grouped_pivot.columns:\n",
    "        aware_columns.append('O')\n",
    "        \n",
    "    aware_grouped_pivot['Total_DDD'] = aware_grouped_pivot[aware_columns].sum(axis=1)\n",
    "\n",
    "    # 5. Yüzdeleri Hesapla\n",
    "    # Toplam DDD'nin 0 olduğu yerlerde 0'a bölme hatası almamak için kontrol et\n",
    "    total_ddd = aware_grouped_pivot['Total_DDD']\n",
    "    \n",
    "    # Kategori sütunları yoksa bile hata vermemesi için kontrol\n",
    "    if 'A' in aware_grouped_pivot.columns:\n",
    "        aware_grouped_pivot['Access_pct'] = (aware_grouped_pivot['A'] / total_ddd).replace([np.NAN, float('inf'), -float('inf')], 0) * 100\n",
    "    if 'W' in aware_grouped_pivot.columns:\n",
    "        aware_grouped_pivot['Watch_pct'] = (aware_grouped_pivot['W'] / total_ddd).replace([np.NAN, float('inf'), -float('inf')], 0) * 100\n",
    "    if 'R' in aware_grouped_pivot.columns:\n",
    "        aware_grouped_pivot['Reserve_pct'] = (aware_grouped_pivot['R'] / total_ddd).replace([np.NAN, float('inf'), -float('inf')], 0) * 100\n",
    "    if 'O' in aware_grouped_pivot.columns:\n",
    "        aware_grouped_pivot['Other_pct'] = (aware_grouped_pivot['O'] / total_ddd).replace([np.NAN, float('inf'), -float('inf')], 0) * 100\n",
    "\n",
    "\n",
    "    # 7. Yeni dosyayı kaydet\n",
    "    aware_grouped_pivot.to_csv(output_file, index=False)\n",
    "    \n",
    "    print(f\"Başarıyla tamamlandı. AWaRe oranları '{output_file}' dosyasına kaydedildi.\")\n",
    "\n",
    "    # 8. Yeni dosyanın yapısını göster\n",
    "    print(f\"\\n--- '{output_file}' Dosyasının İlk 5 Satırı ---\")\n",
    "    print(aware_grouped_pivot.head())\n",
    "\n",
    "    print(f\"\\n--- '{output_file}' Dosyasının Bilgileri (info) ---\")\n",
    "    aware_grouped_pivot.info()\n",
    "\n",
    "except FileNotFoundError:\n",
    "    print(f\"HATA: '{antibiotic_use_aware}' dosyası bulunamadı.\")\n",
    "except Exception as e:\n",
    "    print(f\"Beklenmedik bir hata oluştu: {e}\")"
   ]
  },
  {
   "cell_type": "code",
   "execution_count": 308,
   "id": "d20ef486",
   "metadata": {},
   "outputs": [],
   "source": [
    "def drop_missing_code_and_remove_col(df):\n",
    "    if 'Code' not in df.columns:\n",
    "        print(\"No 'Code' column found.\")\n",
    "        return df\n",
    "    return df.dropna(subset=['Code']).drop(columns=['Code']).reset_index(drop=True)\n",
    "\n"
   ]
  },
  {
   "cell_type": "code",
   "execution_count": 309,
   "id": "3c51aeab",
   "metadata": {},
   "outputs": [
    {
     "name": "stdout",
     "output_type": "stream",
     "text": [
      "No 'Code' column found.\n"
     ]
    }
   ],
   "source": [
    "# Örnek kullanım — ilgili DataFrame'leri temizle:\n",
    "antibiotic_consumption = drop_missing_code_and_remove_col(antibiotic_consumption)\n",
    "glass_countries = drop_missing_code_and_remove_col(glass_countries)\n",
    "laws_am_aqua = drop_missing_code_and_remove_col(laws_am_aqua)\n",
    "laws_am_livestock = drop_missing_code_and_remove_col(laws_am_livestock)\n",
    "sales_am_livestock = drop_missing_code_and_remove_col(sales_am_livestock)\n",
    "e_coli_resistance = drop_missing_code_and_remove_col(e_coli_resistance)\n",
    "glass_countries = drop_missing_code_and_remove_col(glass_countries)\n",
    "s_aureus_resistance = drop_missing_code_and_remove_col(s_aureus_resistance)"
   ]
  },
  {
   "cell_type": "code",
   "execution_count": 310,
   "id": "31fd8da5",
   "metadata": {},
   "outputs": [],
   "source": [
    "antibotic_usage_in_children = antibotic_usage_in_children.rename(columns={'country': 'Entity'})"
   ]
  },
  {
   "cell_type": "code",
   "execution_count": 311,
   "id": "35de7152",
   "metadata": {},
   "outputs": [],
   "source": [
    "data_frames = [\n",
    "    aware_grouped_pivot,\n",
    "    antibiotic_consumption,\n",
    "    antibotic_usage_in_children,\n",
    "    glass_countries,\n",
    "    laws_am_aqua,\n",
    "    laws_am_livestock,\n",
    "    sales_am_livestock,\n",
    "    e_coli_resistance,\n",
    "    s_aureus_resistance\n",
    "]\n",
    "\n",
    "main_df_merged = reduce(lambda left, right: pd.merge(left, right, on=['Entity', 'Year'], how='outer'), data_frames)"
   ]
  },
  {
   "cell_type": "code",
   "execution_count": 312,
   "id": "79c21cf1",
   "metadata": {},
   "outputs": [],
   "source": [
    "main_df = main_df_merged.sort_values(by=['Entity', 'Year']).reset_index(drop=True)"
   ]
  },
  {
   "cell_type": "code",
   "execution_count": 313,
   "id": "88248ea7",
   "metadata": {},
   "outputs": [],
   "source": [
    "main_df.to_csv('main_df.csv', index=False)"
   ]
  },
  {
   "cell_type": "code",
   "execution_count": null,
   "id": "aa9ca368",
   "metadata": {},
   "outputs": [],
   "source": []
  }
 ],
 "metadata": {
  "kernelspec": {
   "display_name": "Python 3",
   "language": "python",
   "name": "python3"
  },
  "language_info": {
   "codemirror_mode": {
    "name": "ipython",
    "version": 3
   },
   "file_extension": ".py",
   "mimetype": "text/x-python",
   "name": "python",
   "nbconvert_exporter": "python",
   "pygments_lexer": "ipython3",
   "version": "3.11.5"
  }
 },
 "nbformat": 4,
 "nbformat_minor": 5
}
